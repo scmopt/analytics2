{
 "cells": [
  {
   "cell_type": "markdown",
   "id": "c8c4d9eb-c023-4dbe-a942-267a6eef862c",
   "metadata": {},
   "source": [
    "# Transformersによる自然言語処理\n",
    "\n",
    "> Hagging Faceのトランスフォーマーを用いた自然言語処理 "
   ]
  },
  {
   "cell_type": "markdown",
   "id": "ebdff9cf-f78e-40f7-b187-043f53225e78",
   "metadata": {},
   "source": [
    "## 自然言語処理 NLP(Natural Language Processing)\n",
    "\n",
    "- 文章の分類：レビューの評価、スパムメールの検出、文法的に正しいかどうかの判断、2つの文が論理的に関連しているかどうかの判断\n",
    "- 文の中の単語分類：品詞（名詞、動詞、形容詞）や、固有表現（人、場所、組織）の識別\n",
    "- 文章内容の生成：自動生成されたテキストによる入力テキストの補完、文章の穴埋め\n",
    "- 文章からの情報抽出：質問と文脈が与えられたときの、文脈からの情報に基づいた質問に対する答えの抽出\n",
    "- 文章の変換：ある文章の他の言語への翻訳、文章の要約"
   ]
  },
  {
   "cell_type": "markdown",
   "id": "06295ae5-c17a-4804-b26b-bca7a0405bae",
   "metadata": {},
   "source": [
    "Hagging Face https://huggingface.co/ のトランスフォーマーを使って色々なNLPの処理ができる。\n",
    "\n",
    "- sentiment-analysis (感情分析)\n",
    "- zero-shot-classification (ゼロショット分類)\n",
    "- text-generation (文章生成)\n",
    "- fill-mask (空所穴埋め)\n",
    "- ner (named entity recognition) (固有表現認識)\n",
    "- question-answering (質問応答)\n",
    "- summarization (要約)\n",
    "- translation (翻訳)\n",
    "\n",
    "基本的な使い方は簡単であり、`pipeline`にやりたいことを表す上の文字列を入れて、生成されたインスタンスに文字列を入れるだけである。"
   ]
  },
  {
   "cell_type": "code",
   "execution_count": null,
   "id": "4eb4183e-4fc1-4e20-962f-79584cc85a29",
   "metadata": {},
   "outputs": [],
   "source": [
    "from transformers import pipeline"
   ]
  },
  {
   "cell_type": "markdown",
   "id": "2d0c5db9-95d6-4285-b28f-bc08c9ce9185",
   "metadata": {},
   "source": [
    "## 感情分析\n",
    "\n",
    "与えられた文章が `POSITIVE`か`NEGATIVE`かを返す。"
   ]
  },
  {
   "cell_type": "code",
   "execution_count": null,
   "id": "f57f448b-2e4b-49be-ade0-3dfa68c14420",
   "metadata": {},
   "outputs": [
    {
     "name": "stderr",
     "output_type": "stream",
     "text": [
      "No model was supplied, defaulted to distilbert-base-uncased-finetuned-sst-2-english and revision af0f99b (https://huggingface.co/distilbert-base-uncased-finetuned-sst-2-english).\n",
      "Using a pipeline without specifying a model name and revision in production is not recommended.\n",
      "Xformers is not installed correctly. If you want to use memory_efficient_attention to accelerate training use the following command to install Xformers\n",
      "pip install xformers.\n"
     ]
    },
    {
     "data": {
      "text/plain": [
       "[{'label': 'POSITIVE', 'score': 0.9997795224189758}]"
      ]
     },
     "execution_count": null,
     "metadata": {},
     "output_type": "execute_result"
    }
   ],
   "source": [
    "classifier = pipeline(\"sentiment-analysis\")\n",
    "classifier(\"We are very happy to show you the 🤗 Transformers library.\")"
   ]
  },
  {
   "cell_type": "markdown",
   "id": "a80546f6-85f7-4f13-91dc-3fde468394fe",
   "metadata": {},
   "source": [
    "## ゼロショット分類\n",
    "\n",
    "例を示すことなく、与えられた文章を分類する。分類したいラベルのリストを、引数 `candidate_labels`で与える。"
   ]
  },
  {
   "cell_type": "code",
   "execution_count": null,
   "id": "501c0e2b-226f-43fe-a7f9-6d5ea5177e59",
   "metadata": {},
   "outputs": [
    {
     "name": "stderr",
     "output_type": "stream",
     "text": [
      "No model was supplied, defaulted to facebook/bart-large-mnli and revision c626438 (https://huggingface.co/facebook/bart-large-mnli).\n",
      "Using a pipeline without specifying a model name and revision in production is not recommended.\n"
     ]
    },
    {
     "data": {
      "application/vnd.jupyter.widget-view+json": {
       "model_id": "334d005d9f4f4ae6908e73db723318c6",
       "version_major": 2,
       "version_minor": 0
      },
      "text/plain": [
       "Downloading (…)lve/main/config.json:   0%|          | 0.00/1.15k [00:00<?, ?B/s]"
      ]
     },
     "metadata": {},
     "output_type": "display_data"
    },
    {
     "data": {
      "application/vnd.jupyter.widget-view+json": {
       "model_id": "534398567321495188211bcf8df0bbda",
       "version_major": 2,
       "version_minor": 0
      },
      "text/plain": [
       "Downloading model.safetensors:   0%|          | 0.00/1.63G [00:00<?, ?B/s]"
      ]
     },
     "metadata": {},
     "output_type": "display_data"
    },
    {
     "data": {
      "application/vnd.jupyter.widget-view+json": {
       "model_id": "9282f2838d304d87ab872fae6dcdc83d",
       "version_major": 2,
       "version_minor": 0
      },
      "text/plain": [
       "Downloading (…)okenizer_config.json:   0%|          | 0.00/26.0 [00:00<?, ?B/s]"
      ]
     },
     "metadata": {},
     "output_type": "display_data"
    },
    {
     "data": {
      "application/vnd.jupyter.widget-view+json": {
       "model_id": "df5a335b0ff14238be627a973b9b1daa",
       "version_major": 2,
       "version_minor": 0
      },
      "text/plain": [
       "Downloading (…)olve/main/vocab.json:   0%|          | 0.00/899k [00:00<?, ?B/s]"
      ]
     },
     "metadata": {},
     "output_type": "display_data"
    },
    {
     "data": {
      "application/vnd.jupyter.widget-view+json": {
       "model_id": "cb73e09867ac437f86385a5c184ff6cd",
       "version_major": 2,
       "version_minor": 0
      },
      "text/plain": [
       "Downloading (…)olve/main/merges.txt:   0%|          | 0.00/456k [00:00<?, ?B/s]"
      ]
     },
     "metadata": {},
     "output_type": "display_data"
    },
    {
     "data": {
      "application/vnd.jupyter.widget-view+json": {
       "model_id": "e6f12f066c6c4d448021cdbfdce0a729",
       "version_major": 2,
       "version_minor": 0
      },
      "text/plain": [
       "Downloading (…)/main/tokenizer.json:   0%|          | 0.00/1.36M [00:00<?, ?B/s]"
      ]
     },
     "metadata": {},
     "output_type": "display_data"
    },
    {
     "data": {
      "text/plain": [
       "{'sequence': 'This is a course about the Transformers library',\n",
       " 'labels': ['education', 'business', 'politics'],\n",
       " 'scores': [0.8445950150489807, 0.11197729408740997, 0.0434277318418026]}"
      ]
     },
     "execution_count": null,
     "metadata": {},
     "output_type": "execute_result"
    }
   ],
   "source": [
    "classifier2 = pipeline(\"zero-shot-classification\")\n",
    "classifier2(\n",
    "    \"This is a course about the Transformers library\",\n",
    "    candidate_labels=[\"education\", \"politics\", \"business\"],\n",
    ")"
   ]
  },
  {
   "cell_type": "markdown",
   "id": "07122778-5280-4d8b-a384-fd48cd6f8df6",
   "metadata": {},
   "source": [
    "## 文章生成\n",
    "\n",
    "与えた文章の続きを書く。"
   ]
  },
  {
   "cell_type": "code",
   "execution_count": null,
   "id": "e31d00eb-34bb-4385-95d4-ebc3a6f90aa0",
   "metadata": {},
   "outputs": [
    {
     "name": "stderr",
     "output_type": "stream",
     "text": [
      "No model was supplied, defaulted to gpt2 and revision 6c0e608 (https://huggingface.co/gpt2).\n",
      "Using a pipeline without specifying a model name and revision in production is not recommended.\n",
      "Setting `pad_token_id` to `eos_token_id`:50256 for open-end generation.\n"
     ]
    },
    {
     "data": {
      "text/plain": [
       "[{'generated_text': 'In this course, we will teach you how to run a database with Nginx and PHP. We first take a look at how to run PHP and Nginx together. Then we will use an example MySQL database to create a database. In the same'}]"
      ]
     },
     "execution_count": null,
     "metadata": {},
     "output_type": "execute_result"
    }
   ],
   "source": [
    "generator = pipeline(\"text-generation\")\n",
    "generator(\"In this course, we will teach you how to\")"
   ]
  },
  {
   "cell_type": "markdown",
   "id": "90418cda-a5f5-4536-8bd5-04d8d0d1ef49",
   "metadata": {},
   "source": [
    "`pipeline`のモデル引数`model`で、使用するモデルを指定することもできる。\n",
    "モデルは、https://huggingface.co/models から適当なものを選択する必要がある。\n",
    "\n",
    "また、最大トークン数を`max_length`、生成する文章の数を`num_return_sequences`で与えることもできる。"
   ]
  },
  {
   "cell_type": "code",
   "execution_count": null,
   "id": "d2d9205d-2319-41c4-b412-c4d13186e396",
   "metadata": {},
   "outputs": [
    {
     "name": "stderr",
     "output_type": "stream",
     "text": [
      "Setting `pad_token_id` to `eos_token_id`:50256 for open-end generation.\n"
     ]
    },
    {
     "data": {
      "text/plain": [
       "[{'generated_text': 'In this course, we will teach you how to make mistakes as well as avoid them all because they cost you money, and why it makes good money'},\n",
       " {'generated_text': 'In this course, we will teach you how to understand the best, most effective and most effective ways to perform the work of the American people. These'}]"
      ]
     },
     "execution_count": null,
     "metadata": {},
     "output_type": "execute_result"
    }
   ],
   "source": [
    "generator = pipeline(\"text-generation\", model=\"distilgpt2\")\n",
    "generator(\n",
    "    \"In this course, we will teach you how to\",\n",
    "    max_length=30,\n",
    "    num_return_sequences=2,\n",
    ")"
   ]
  },
  {
   "cell_type": "markdown",
   "id": "c25d03b1-3f11-4105-b3b2-1979b60c4124",
   "metadata": {},
   "source": [
    "## 空所穴埋め\n",
    "\n",
    "与えた文章内の`<mask>`の部分に単語で埋めて文章にする。引数`top_k`で埋める単語数を与えることができる。"
   ]
  },
  {
   "cell_type": "code",
   "execution_count": null,
   "id": "d40a3127-748e-4de2-b9c0-a7f3fe991bcb",
   "metadata": {},
   "outputs": [
    {
     "name": "stderr",
     "output_type": "stream",
     "text": [
      "No model was supplied, defaulted to distilroberta-base and revision ec58a5b (https://huggingface.co/distilroberta-base).\n",
      "Using a pipeline without specifying a model name and revision in production is not recommended.\n"
     ]
    }
   ],
   "source": [
    "unmasker = pipeline(\"fill-mask\")"
   ]
  },
  {
   "cell_type": "code",
   "execution_count": null,
   "id": "183ae6b4-b7da-4e54-8279-77da6273a739",
   "metadata": {},
   "outputs": [
    {
     "data": {
      "text/plain": [
       "[{'score': 0.1961977630853653,\n",
       "  'token': 30412,\n",
       "  'token_str': ' mathematical',\n",
       "  'sequence': 'This course will teach you all about mathematical models.'},\n",
       " {'score': 0.04052729532122612,\n",
       "  'token': 38163,\n",
       "  'token_str': ' computational',\n",
       "  'sequence': 'This course will teach you all about computational models.'}]"
      ]
     },
     "execution_count": null,
     "metadata": {},
     "output_type": "execute_result"
    }
   ],
   "source": [
    "unmasker(\"This course will teach you all about <mask> models.\", top_k=2)"
   ]
  },
  {
   "cell_type": "markdown",
   "id": "4ab717a2-8951-4fe3-9452-218a8d4d6b58",
   "metadata": {},
   "source": [
    "## 固有表現認識\n",
    "\n",
    "固有表現認識 ner (named entity recognition) とは、文章内の\n",
    "人(PER: persons)、場所（LOC: locations)、組織(ORG: organizations)などを抽出するタスクである。\n",
    "\n",
    "引数`grouped_entities`を`True`に設定すると固有名詞を結合して出力する。 \n"
   ]
  },
  {
   "cell_type": "code",
   "execution_count": null,
   "id": "d4ed1bfe-dd36-4b53-bfe4-780d74e4f368",
   "metadata": {},
   "outputs": [
    {
     "name": "stderr",
     "output_type": "stream",
     "text": [
      "No model was supplied, defaulted to dbmdz/bert-large-cased-finetuned-conll03-english and revision f2482bf (https://huggingface.co/dbmdz/bert-large-cased-finetuned-conll03-english).\n",
      "Using a pipeline without specifying a model name and revision in production is not recommended.\n"
     ]
    },
    {
     "data": {
      "text/plain": [
       "[{'entity_group': 'PER',\n",
       "  'score': 0.9981694,\n",
       "  'word': 'Sylvain',\n",
       "  'start': 11,\n",
       "  'end': 18},\n",
       " {'entity_group': 'ORG',\n",
       "  'score': 0.9796021,\n",
       "  'word': 'Hugging Face',\n",
       "  'start': 33,\n",
       "  'end': 45},\n",
       " {'entity_group': 'LOC',\n",
       "  'score': 0.9932106,\n",
       "  'word': 'Brooklyn',\n",
       "  'start': 49,\n",
       "  'end': 57}]"
      ]
     },
     "execution_count": null,
     "metadata": {},
     "output_type": "execute_result"
    }
   ],
   "source": [
    "ner = pipeline(\"ner\", grouped_entities=True)\n",
    "ner(\"My name is Sylvain and I work at Hugging Face in Brooklyn.\")"
   ]
  },
  {
   "cell_type": "markdown",
   "id": "7116c1a8-71d7-4a31-bb65-0fbb1ee8123d",
   "metadata": {},
   "source": [
    "## 質問応答\n",
    "\n",
    "質問を`question`、文章を`context`で与えることによって、質問の答えと、その単語の開始位置と終了位置を返す。"
   ]
  },
  {
   "cell_type": "code",
   "execution_count": null,
   "id": "0c742e49-9fac-44b5-bf34-7c005c936c54",
   "metadata": {},
   "outputs": [
    {
     "name": "stderr",
     "output_type": "stream",
     "text": [
      "No model was supplied, defaulted to distilbert-base-cased-distilled-squad and revision 626af31 (https://huggingface.co/distilbert-base-cased-distilled-squad).\n",
      "Using a pipeline without specifying a model name and revision in production is not recommended.\n"
     ]
    },
    {
     "data": {
      "application/vnd.jupyter.widget-view+json": {
       "model_id": "adebfb93b1614263890b424c06a1953d",
       "version_major": 2,
       "version_minor": 0
      },
      "text/plain": [
       "Downloading (…)lve/main/config.json:   0%|          | 0.00/473 [00:00<?, ?B/s]"
      ]
     },
     "metadata": {},
     "output_type": "display_data"
    },
    {
     "data": {
      "application/vnd.jupyter.widget-view+json": {
       "model_id": "0edf39e810a94774a4caceae2d7d21b5",
       "version_major": 2,
       "version_minor": 0
      },
      "text/plain": [
       "Downloading model.safetensors:   0%|          | 0.00/261M [00:00<?, ?B/s]"
      ]
     },
     "metadata": {},
     "output_type": "display_data"
    },
    {
     "data": {
      "application/vnd.jupyter.widget-view+json": {
       "model_id": "9013fc555c404757b93e3ce93f89ba0b",
       "version_major": 2,
       "version_minor": 0
      },
      "text/plain": [
       "Downloading (…)okenizer_config.json:   0%|          | 0.00/29.0 [00:00<?, ?B/s]"
      ]
     },
     "metadata": {},
     "output_type": "display_data"
    },
    {
     "data": {
      "application/vnd.jupyter.widget-view+json": {
       "model_id": "2bf0e3a0688d439c96d55e7023808a28",
       "version_major": 2,
       "version_minor": 0
      },
      "text/plain": [
       "Downloading (…)solve/main/vocab.txt:   0%|          | 0.00/213k [00:00<?, ?B/s]"
      ]
     },
     "metadata": {},
     "output_type": "display_data"
    },
    {
     "data": {
      "application/vnd.jupyter.widget-view+json": {
       "model_id": "8ba1782423c442e49ae9995d043fa042",
       "version_major": 2,
       "version_minor": 0
      },
      "text/plain": [
       "Downloading (…)/main/tokenizer.json:   0%|          | 0.00/436k [00:00<?, ?B/s]"
      ]
     },
     "metadata": {},
     "output_type": "display_data"
    },
    {
     "data": {
      "text/plain": [
       "{'score': 0.6949763894081116, 'start': 33, 'end': 45, 'answer': 'Hugging Face'}"
      ]
     },
     "execution_count": null,
     "metadata": {},
     "output_type": "execute_result"
    }
   ],
   "source": [
    "question_answerer = pipeline(\"question-answering\")\n",
    "question_answerer(\n",
    "    question=\"Where do I work?\",\n",
    "    context=\"My name is Sylvain and I work at Hugging Face in Brooklyn\",\n",
    ")"
   ]
  },
  {
   "cell_type": "markdown",
   "id": "a54b013a-a947-4f09-9a8f-bae6b66bc8cb",
   "metadata": {},
   "source": [
    "## 要約\n",
    "\n",
    "文章の要約を返す。"
   ]
  },
  {
   "cell_type": "code",
   "execution_count": null,
   "id": "8b857b85-e216-482f-b02f-52ace711481a",
   "metadata": {},
   "outputs": [
    {
     "name": "stderr",
     "output_type": "stream",
     "text": [
      "No model was supplied, defaulted to sshleifer/distilbart-cnn-12-6 and revision a4f8f3e (https://huggingface.co/sshleifer/distilbart-cnn-12-6).\n",
      "Using a pipeline without specifying a model name and revision in production is not recommended.\n"
     ]
    },
    {
     "data": {
      "application/vnd.jupyter.widget-view+json": {
       "model_id": "31fc209d09a4401998b04128a348cab3",
       "version_major": 2,
       "version_minor": 0
      },
      "text/plain": [
       "Downloading (…)lve/main/config.json:   0%|          | 0.00/1.80k [00:00<?, ?B/s]"
      ]
     },
     "metadata": {},
     "output_type": "display_data"
    },
    {
     "data": {
      "application/vnd.jupyter.widget-view+json": {
       "model_id": "a6bdf30099d544019f6c42a00b5772bd",
       "version_major": 2,
       "version_minor": 0
      },
      "text/plain": [
       "Downloading pytorch_model.bin:   0%|          | 0.00/1.22G [00:00<?, ?B/s]"
      ]
     },
     "metadata": {},
     "output_type": "display_data"
    },
    {
     "data": {
      "application/vnd.jupyter.widget-view+json": {
       "model_id": "b644070a330e49358e6ad350de4f6d98",
       "version_major": 2,
       "version_minor": 0
      },
      "text/plain": [
       "Downloading (…)okenizer_config.json:   0%|          | 0.00/26.0 [00:00<?, ?B/s]"
      ]
     },
     "metadata": {},
     "output_type": "display_data"
    },
    {
     "data": {
      "application/vnd.jupyter.widget-view+json": {
       "model_id": "73a3be92e32d43d08a072cdf407cb875",
       "version_major": 2,
       "version_minor": 0
      },
      "text/plain": [
       "Downloading (…)olve/main/vocab.json:   0%|          | 0.00/899k [00:00<?, ?B/s]"
      ]
     },
     "metadata": {},
     "output_type": "display_data"
    },
    {
     "data": {
      "application/vnd.jupyter.widget-view+json": {
       "model_id": "fc8b80109fc94ae99a94ffb2198f3419",
       "version_major": 2,
       "version_minor": 0
      },
      "text/plain": [
       "Downloading (…)olve/main/merges.txt:   0%|          | 0.00/456k [00:00<?, ?B/s]"
      ]
     },
     "metadata": {},
     "output_type": "display_data"
    },
    {
     "data": {
      "text/plain": [
       "[{'summary_text': ' America has changed dramatically during recent years . The number of engineering graduates in the U.S. has declined in traditional engineering disciplines such as mechanical, civil,    electrical, chemical, and aeronautical engineering . Rapidly developing economies such as China and India continue to encourage and advance the teaching of engineering .'}]"
      ]
     },
     "execution_count": null,
     "metadata": {},
     "output_type": "execute_result"
    }
   ],
   "source": [
    "summarizer = pipeline(\"summarization\")\n",
    "summarizer(\n",
    "    \"\"\"\n",
    "    America has changed dramatically during recent years. Not only has the number of \n",
    "    graduates in traditional engineering disciplines such as mechanical, civil, \n",
    "    electrical, chemical, and aeronautical engineering declined, but in most of \n",
    "    the premier American universities engineering curricula now concentrate on \n",
    "    and encourage largely the study of engineering science. As a result, there \n",
    "    are declining offerings in engineering subjects dealing with infrastructure, \n",
    "    the environment, and related issues, and greater concentration on high \n",
    "    technology subjects, largely supporting increasingly complex scientific \n",
    "    developments. While the latter is important, it should not be at the expense \n",
    "    of more traditional engineering.\n",
    "\n",
    "    Rapidly developing economies such as China and India, as well as other \n",
    "    industrial countries in Europe and Asia, continue to encourage and advance \n",
    "    the teaching of engineering. Both China and India, respectively, graduate \n",
    "    six and eight times as many traditional engineers as does the United States. \n",
    "    Other industrial countries at minimum maintain their output, while America \n",
    "    suffers an increasingly serious decline in the number of engineering graduates \n",
    "    and a lack of well-educated engineers.\n",
    "\"\"\"\n",
    ")"
   ]
  },
  {
   "cell_type": "markdown",
   "id": "2ab94ab8-1a1f-4fbb-819a-6ed3d121b1d3",
   "metadata": {},
   "source": [
    "## 翻訳\n",
    "\n",
    "翻訳した文章を返す。\n",
    "`pipeline`のモデル引数`model`に翻訳をするためのモデルを入れる。\n",
    "以下の例では、英語からフランス語への翻訳モデルを指定している。\n",
    "（ドイツ語への翻訳の場合には、`translation_en_to_de` を引数とする。）\n"
   ]
  },
  {
   "cell_type": "code",
   "execution_count": null,
   "id": "3e347abf-b17d-4d96-ad6d-da9011db76f8",
   "metadata": {},
   "outputs": [
    {
     "name": "stderr",
     "output_type": "stream",
     "text": [
      "No model was supplied, defaulted to t5-base and revision 686f1db (https://huggingface.co/t5-base).\n",
      "Using a pipeline without specifying a model name and revision in production is not recommended.\n"
     ]
    },
    {
     "data": {
      "text/plain": [
       "[{'translation_text': 'Ce cours est produit par Hugging Face.'}]"
      ]
     },
     "execution_count": null,
     "metadata": {},
     "output_type": "execute_result"
    }
   ],
   "source": [
    "translator = pipeline(\"translation_en_to_fr\")\n",
    "translator(\"This course is produced by Hugging Face.\")"
   ]
  },
  {
   "cell_type": "markdown",
   "id": "b6d7f029-e502-4d7e-9734-f00cb163486d",
   "metadata": {},
   "source": [
    "## 仕組みの詳細\n",
    "\n",
    "`pipeline`の中身は、以下の処理に分解される。\n",
    "\n",
    "```\n",
    "文字列 => トークナイザー => モデル　=> 後処理\n",
    "```"
   ]
  },
  {
   "cell_type": "code",
   "execution_count": null,
   "id": "7657fea1-b7f6-482a-a853-aed9b64bf330",
   "metadata": {},
   "outputs": [],
   "source": [
    "from transformers import AutoTokenizer\n",
    "from transformers import AutoModel\n",
    "from pprint import pprint\n",
    "from transformers import AutoModelForSequenceClassification\n",
    "import torch"
   ]
  },
  {
   "cell_type": "markdown",
   "id": "4e748aca-532d-47bf-b651-0931aa2a3c70",
   "metadata": {},
   "source": [
    "###  トークナイザー\n",
    "\n",
    "まず、入力された文字列をトークン（単語や記号など）に分割し、各トークンを整数に置き換える必要がある。\n",
    "これには、`AutoTokenizer` クラスの`from_pretrained`メソッドを使用する。\n",
    "引数には、https://huggingface.co/models にあるモデル名 `checkpoint`を与える。"
   ]
  },
  {
   "cell_type": "code",
   "execution_count": null,
   "id": "a3e1db31-8506-4e69-a6f5-8686146d96fe",
   "metadata": {},
   "outputs": [],
   "source": [
    "checkpoint = \"distilbert-base-uncased-finetuned-sst-2-english\"\n",
    "tokenizer = AutoTokenizer.from_pretrained(checkpoint)"
   ]
  },
  {
   "cell_type": "code",
   "execution_count": null,
   "id": "b1e57867-c945-4b1a-bcb9-2c300bb041f2",
   "metadata": {},
   "outputs": [
    {
     "name": "stdout",
     "output_type": "stream",
     "text": [
      "DistilBertTokenizerFast(name_or_path='distilbert-base-uncased-finetuned-sst-2-english', vocab_size=30522, model_max_length=512, is_fast=True, padding_side='right', truncation_side='right', special_tokens={'unk_token': '[UNK]', 'sep_token': '[SEP]', 'pad_token': '[PAD]', 'cls_token': '[CLS]', 'mask_token': '[MASK]'}, clean_up_tokenization_spaces=True)\n"
     ]
    }
   ],
   "source": [
    "pprint(tokenizer)"
   ]
  },
  {
   "cell_type": "markdown",
   "id": "c1c316f6-c77f-4a51-8f3e-34072b64dae2",
   "metadata": {},
   "source": [
    "生成したトークナーザー`tokenizer`に文字列（のリスト）を与えると、変換された数値情報を含んだ辞書が生成される。\n",
    "辞書のキーは、どのトークンに注意するかを表す`attention_mask`と入力を数値に変換した多次元配列を表す `input_ids` である。\n",
    "\n",
    "この際、どの深層学習フレームワークを使うかを表す`return_tensors`を指定する必要がある。\n",
    "ここでは、PyTorchを使うので、引数に`pt`を指定する。\n",
    "\n"
   ]
  },
  {
   "cell_type": "code",
   "execution_count": null,
   "id": "c4abfe4b-d326-4fd6-bec0-bedecc21a7b5",
   "metadata": {},
   "outputs": [
    {
     "name": "stdout",
     "output_type": "stream",
     "text": [
      "{'attention_mask': tensor([[1, 1, 1, 1, 1, 1, 1, 1, 1, 1, 1, 1, 1, 1, 1, 1],\n",
      "        [1, 1, 1, 1, 1, 1, 1, 1, 0, 0, 0, 0, 0, 0, 0, 0]]),\n",
      " 'input_ids': tensor([[  101,  1045,  1005,  2310,  2042,  3403,  2005,  1037, 17662, 12172,\n",
      "          2607,  2026,  2878,  2166,  1012,   102],\n",
      "        [  101,  1045,  5223,  2023,  2061,  2172,   999,   102,     0,     0,\n",
      "             0,     0,     0,     0,     0,     0]])}\n"
     ]
    }
   ],
   "source": [
    "raw_inputs = [\n",
    "    \"I've been waiting for a HuggingFace course my whole life.\",\n",
    "    \"I hate this so much!\",\n",
    "]\n",
    "inputs = tokenizer(raw_inputs, padding=True, truncation=True, return_tensors=\"pt\")\n",
    "pprint(inputs)"
   ]
  },
  {
   "cell_type": "markdown",
   "id": "054c1714-bffd-4eb6-9011-0d53c4e51177",
   "metadata": {},
   "source": [
    "### モデル\n",
    "\n",
    "続いてモデルクラスのインスタンスを生成する。\n",
    "ここでは、`AutoModel`クラスの`from_pretrained`メソッドを使用する。\n",
    "\n",
    "ここで生成したモデルは、トランスフォーマーの基本部分だけをもち、出力は入力の特徴を抽出した多次元配列（テンソル）である。"
   ]
  },
  {
   "cell_type": "code",
   "execution_count": null,
   "id": "5f5607ef-2607-48ef-9eff-c96f6fcd62c3",
   "metadata": {},
   "outputs": [
    {
     "name": "stderr",
     "output_type": "stream",
     "text": [
      "Some weights of the model checkpoint at distilbert-base-uncased-finetuned-sst-2-english were not used when initializing DistilBertModel: ['classifier.bias', 'pre_classifier.bias', 'pre_classifier.weight', 'classifier.weight']\n",
      "- This IS expected if you are initializing DistilBertModel from the checkpoint of a model trained on another task or with another architecture (e.g. initializing a BertForSequenceClassification model from a BertForPreTraining model).\n",
      "- This IS NOT expected if you are initializing DistilBertModel from the checkpoint of a model that you expect to be exactly identical (initializing a BertForSequenceClassification model from a BertForSequenceClassification model).\n"
     ]
    }
   ],
   "source": [
    "checkpoint = \"distilbert-base-uncased-finetuned-sst-2-english\"\n",
    "model = AutoModel.from_pretrained(checkpoint)"
   ]
  },
  {
   "cell_type": "code",
   "execution_count": null,
   "id": "717bc988-7da4-4164-899f-ca142aae913d",
   "metadata": {},
   "outputs": [
    {
     "name": "stdout",
     "output_type": "stream",
     "text": [
      "DistilBertModel(\n",
      "  (embeddings): Embeddings(\n",
      "    (word_embeddings): Embedding(30522, 768, padding_idx=0)\n",
      "    (position_embeddings): Embedding(512, 768)\n",
      "    (LayerNorm): LayerNorm((768,), eps=1e-12, elementwise_affine=True)\n",
      "    (dropout): Dropout(p=0.1, inplace=False)\n",
      "  )\n",
      "  (transformer): Transformer(\n",
      "    (layer): ModuleList(\n",
      "      (0-5): 6 x TransformerBlock(\n",
      "        (attention): MultiHeadSelfAttention(\n",
      "          (dropout): Dropout(p=0.1, inplace=False)\n",
      "          (q_lin): Linear(in_features=768, out_features=768, bias=True)\n",
      "          (k_lin): Linear(in_features=768, out_features=768, bias=True)\n",
      "          (v_lin): Linear(in_features=768, out_features=768, bias=True)\n",
      "          (out_lin): Linear(in_features=768, out_features=768, bias=True)\n",
      "        )\n",
      "        (sa_layer_norm): LayerNorm((768,), eps=1e-12, elementwise_affine=True)\n",
      "        (ffn): FFN(\n",
      "          (dropout): Dropout(p=0.1, inplace=False)\n",
      "          (lin1): Linear(in_features=768, out_features=3072, bias=True)\n",
      "          (lin2): Linear(in_features=3072, out_features=768, bias=True)\n",
      "          (activation): GELUActivation()\n",
      "        )\n",
      "        (output_layer_norm): LayerNorm((768,), eps=1e-12, elementwise_affine=True)\n",
      "      )\n",
      "    )\n",
      "  )\n",
      ")\n"
     ]
    }
   ],
   "source": [
    "pprint(model)"
   ]
  },
  {
   "cell_type": "markdown",
   "id": "9d700b26-230d-4084-91a4-fec10cbc735f",
   "metadata": {},
   "source": [
    "トークナイザーで生成した辞書を展開してモデルに入力すると、PyTorchのテンソルが出力されていることが確認できる。"
   ]
  },
  {
   "cell_type": "code",
   "execution_count": null,
   "id": "fca49c2e-cf16-4070-b99d-6c10bd508bd4",
   "metadata": {},
   "outputs": [
    {
     "name": "stdout",
     "output_type": "stream",
     "text": [
      "torch.Size([2, 16, 768])\n"
     ]
    }
   ],
   "source": [
    "outputs = model(**inputs)\n",
    "print(outputs.last_hidden_state.shape)"
   ]
  },
  {
   "cell_type": "code",
   "execution_count": null,
   "id": "78757d45-5d36-496b-b2f9-2079845a5657",
   "metadata": {},
   "outputs": [
    {
     "data": {
      "text/plain": [
       "BaseModelOutput(last_hidden_state=tensor([[[-0.1798,  0.2333,  0.6321,  ..., -0.3017,  0.5008,  0.1481],\n",
       "         [ 0.2758,  0.6497,  0.3200,  ..., -0.0760,  0.5136,  0.1329],\n",
       "         [ 0.9046,  0.0985,  0.2950,  ...,  0.3352, -0.1407, -0.6464],\n",
       "         ...,\n",
       "         [ 0.1466,  0.5661,  0.3235,  ..., -0.3376,  0.5100, -0.0561],\n",
       "         [ 0.7500,  0.0487,  0.1738,  ...,  0.4684,  0.0030, -0.6084],\n",
       "         [ 0.0519,  0.3729,  0.5223,  ...,  0.3584,  0.6500, -0.3883]],\n",
       "\n",
       "        [[-0.2937,  0.7283, -0.1497,  ..., -0.1187, -1.0227, -0.0422],\n",
       "         [-0.2206,  0.9384, -0.0951,  ..., -0.3643, -0.6605,  0.2407],\n",
       "         [-0.1536,  0.8988, -0.0728,  ..., -0.2189, -0.8528,  0.0710],\n",
       "         ...,\n",
       "         [-0.3017,  0.9002, -0.0200,  ..., -0.1082, -0.8412, -0.0861],\n",
       "         [-0.3338,  0.9674, -0.0729,  ..., -0.1952, -0.8181, -0.0634],\n",
       "         [-0.3454,  0.8824, -0.0426,  ..., -0.0993, -0.8329, -0.1065]]],\n",
       "       grad_fn=<NativeLayerNormBackward0>), hidden_states=None, attentions=None)"
      ]
     },
     "execution_count": null,
     "metadata": {},
     "output_type": "execute_result"
    }
   ],
   "source": [
    "outputs"
   ]
  },
  {
   "cell_type": "markdown",
   "id": "e0bbd6cc-8f3e-4a3c-acc9-d361d3cd0b01",
   "metadata": {},
   "source": [
    "今度は、実際に感情分析を行うための層を含んだモデルを、\n",
    "`AutoModelForSequenceClassification`クラスを用いて生成する。\n",
    "\n",
    "出力の`logits`に保管されているテンソルが得られた数値である。"
   ]
  },
  {
   "cell_type": "code",
   "execution_count": null,
   "id": "cd7762d8-580a-4495-925a-37798ff9fc43",
   "metadata": {},
   "outputs": [],
   "source": [
    "checkpoint = \"distilbert-base-uncased-finetuned-sst-2-english\"\n",
    "model2 = AutoModelForSequenceClassification.from_pretrained(checkpoint)\n",
    "outputs2 = model2(**inputs)"
   ]
  },
  {
   "cell_type": "code",
   "execution_count": null,
   "id": "17d09293-3299-4824-a801-ad1111a2b75f",
   "metadata": {},
   "outputs": [
    {
     "data": {
      "text/plain": [
       "SequenceClassifierOutput(loss=None, logits=tensor([[-1.5607,  1.6123],\n",
       "        [ 4.1692, -3.3464]], grad_fn=<AddmmBackward0>), hidden_states=None, attentions=None)"
      ]
     },
     "execution_count": null,
     "metadata": {},
     "output_type": "execute_result"
    }
   ],
   "source": [
    "outputs2"
   ]
  },
  {
   "cell_type": "markdown",
   "id": "27e16df7-ad2b-48b6-8a06-365ae3d13057",
   "metadata": {},
   "source": [
    "### 後処理\n",
    "\n",
    "得られたテンソルをソフトマック関数を用いて確率に変換する。これが予測値になる。"
   ]
  },
  {
   "cell_type": "code",
   "execution_count": null,
   "id": "78087f00-6a8d-4fae-a417-8806d33b3b15",
   "metadata": {},
   "outputs": [
    {
     "name": "stdout",
     "output_type": "stream",
     "text": [
      "tensor([[4.0195e-02, 9.5981e-01],\n",
      "        [9.9946e-01, 5.4418e-04]], grad_fn=<SoftmaxBackward0>)\n"
     ]
    }
   ],
   "source": [
    "predictions = torch.nn.functional.softmax(outputs2.logits, dim=-1)\n",
    "print(predictions)"
   ]
  },
  {
   "cell_type": "markdown",
   "id": "c24d08b0-0c00-454c-8879-90daa945798f",
   "metadata": {},
   "source": [
    "最初の文の予測値は [0.0402, 0.9598]、2番目の文の予測値は[0.9995, 0.0005]である。\n",
    "これは最初の文は、1である確率が高く、2番目の文は0である確率が高いことを示している。\n",
    "\n",
    "モデルで用いられたラベルを得るには、モデルの`id2label`属性をみる。"
   ]
  },
  {
   "cell_type": "code",
   "execution_count": null,
   "id": "06ee0058-737e-446a-bc0e-fa86b24eb325",
   "metadata": {},
   "outputs": [
    {
     "data": {
      "text/plain": [
       "{0: 'NEGATIVE', 1: 'POSITIVE'}"
      ]
     },
     "execution_count": null,
     "metadata": {},
     "output_type": "execute_result"
    }
   ],
   "source": [
    "model2.config.id2label"
   ]
  },
  {
   "cell_type": "markdown",
   "id": "53b88d27-6985-4140-9705-c6c36aab4bdb",
   "metadata": {},
   "source": [
    "したがって、最初の文章は`POSITIVE`、2番目の文章は`NEGATIVE`であると判定される。"
   ]
  },
  {
   "cell_type": "code",
   "execution_count": null,
   "id": "60eb7f9c-2508-4bcb-baf0-7a32cab17813",
   "metadata": {},
   "outputs": [],
   "source": []
  },
  {
   "cell_type": "code",
   "execution_count": null,
   "id": "d74448d1-466a-4cd9-b85a-639d67505827",
   "metadata": {},
   "outputs": [],
   "source": []
  }
 ],
 "metadata": {
  "kernelspec": {
   "display_name": "python3",
   "language": "python",
   "name": "python3"
  }
 },
 "nbformat": 4,
 "nbformat_minor": 5
}
